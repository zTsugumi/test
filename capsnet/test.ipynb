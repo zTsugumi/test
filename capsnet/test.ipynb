{
 "cells": [
  {
   "cell_type": "code",
   "execution_count": 1,
   "metadata": {},
   "outputs": [],
   "source": [
    "%load_ext autoreload\n",
    "%autoreload 2"
   ]
  },
  {
   "cell_type": "code",
   "execution_count": 2,
   "metadata": {},
   "outputs": [],
   "source": [
    "import os\n",
    "import shutil\n",
    "os.chdir('D:\\Education\\BMSTU\\Diploma_Master\\_my_work')\n",
    "\n",
    "import tensorflow as tf\n",
    "from models import network\n",
    "from utils import scheduler\n",
    "from data import dataset"
   ]
  },
  {
   "cell_type": "markdown",
   "metadata": {},
   "source": [
    "# 300W_LP"
   ]
  },
  {
   "cell_type": "code",
   "execution_count": null,
   "metadata": {},
   "outputs": [],
   "source": [
    "test_it = dataset.make_dataset_iterator(\n",
    "  data_name='300w_lp',\n",
    "  mode='test',\n",
    "  data_dir='data\\\\300w_lp',\n",
    "  data_dim=64,\n",
    "  batch_size=64,\n",
    "  train_size=0.7,\n",
    "  val_size=0.15,\n",
    "  test_size=0.15,\n",
    ")"
   ]
  },
  {
   "cell_type": "code",
   "execution_count": null,
   "metadata": {},
   "outputs": [],
   "source": [
    "from models import pose\n",
    "\n",
    "net = network.Network(\n",
    "    model=pose.PoseEstimator({\n",
    "        'data_dim': 64,\n",
    "        'pose_lambda_d': 1.0,\n",
    "        'pose_stage_base': [3, 3, 3],\n",
    "        'pose_n_caps1': 21,\n",
    "        'pose_n_caps1_dim': 5,\n",
    "        'pose_n_caps2': 3,\n",
    "        'pose_n_caps2_dim': 16,\n",
    "        'pose_routing': 2,\n",
    "    }),\n",
    "    checkpoint_dir='capsnet\\\\checkpoints\\\\300w_lp',\n",
    "    optimizer_type='adam',\n",
    "    learning_rate=scheduler.lr_func)\n",
    "\n",
    "net.restore(epoch=40)\n"
   ]
  },
  {
   "cell_type": "code",
   "execution_count": null,
   "metadata": {},
   "outputs": [],
   "source": [
    "for i in range(5):\n",
    "  data = test_it.get_next()\n",
    "x, y = data[0], data[1]\n",
    "\n",
    "y_pred = net.model.predict(x)\n"
   ]
  },
  {
   "cell_type": "code",
   "execution_count": null,
   "metadata": {},
   "outputs": [],
   "source": [
    "from utils import visualization\n",
    "\n",
    "print('Inputs')\n",
    "visualization.plot_image(2, 2, x, 0, 255)"
   ]
  },
  {
   "cell_type": "code",
   "execution_count": null,
   "metadata": {},
   "outputs": [],
   "source": [
    "l0 = y[0][0] * 20\n",
    "l1 = y[0][1] * 20\n",
    "l2 = y[0][2] * 20\n",
    "b0 = y[0][3] * 20\n",
    "b1 = y[0][4] * 20\n",
    "b2 = y[0][5] * 20\n",
    "f0 = y[0][6] * 20\n",
    "f1 = y[0][7] * 20\n",
    "f2 = y[0][8] * 20\n",
    "l0_pred = y_pred[0][0] * 20\n",
    "l1_pred = y_pred[0][1] * 20\n",
    "l2_pred = y_pred[0][2] * 20\n",
    "b0_pred = y_pred[0][3] * 20\n",
    "b1_pred = y_pred[0][4] * 20\n",
    "b2_pred = y_pred[0][5] * 20\n",
    "f0_pred = y_pred[0][6] * 20\n",
    "f1_pred = y_pred[0][7] * 20\n",
    "f2_pred = y_pred[0][8] * 20"
   ]
  },
  {
   "cell_type": "code",
   "execution_count": null,
   "metadata": {},
   "outputs": [],
   "source": [
    "import matplotlib.pyplot as plt\n",
    "\n",
    "# Creating plot\n",
    "fig, ax = plt.subplots(1, 2, figsize = (10, 10))\n",
    "ax[0].imshow(x[0], cmap='gray', norm=None, vmin=0, vmax=1, origin='lower')\n",
    "ax[0].arrow(0, 0, l0, l1, color='red')\n",
    "ax[0].arrow(0, 0, b0, b1, color='green')\n",
    "ax[0].arrow(0, 0, f0, f1, color='blue')\n",
    "ax[0].axis([-10, 64, 64, -10])\n",
    "\n",
    "ax[1].imshow(x[0], cmap='gray', norm=None, vmin=0, vmax=1, origin='lower')\n",
    "ax[1].arrow(0, 0, l0_pred, l1_pred, color='red')\n",
    "ax[1].arrow(0, 0, b0_pred, b1_pred, color='green')\n",
    "ax[1].arrow(0, 0, f0_pred, f1_pred, color='blue')\n",
    "ax[1].axis([-10, 64, 64, -10])\n",
    "\n",
    "plt.show()"
   ]
  },
  {
   "cell_type": "markdown",
   "metadata": {},
   "source": [
    "# CELEB_A"
   ]
  },
  {
   "cell_type": "code",
   "execution_count": 21,
   "metadata": {},
   "outputs": [
    {
     "name": "stdout",
     "output_type": "stream",
     "text": [
      "Generating partitions (Train=0.7, Val=0.15, Test=0.15)\n",
      "Partitions file already generated\n",
      "\n"
     ]
    }
   ],
   "source": [
    "train_it = dataset.make_dataset_iterator(\n",
    "  data_name='celeb_a',\n",
    "  mode='train',\n",
    "  data_dir='data\\\\celeb_a',\n",
    "  data_dim=80,\n",
    "  batch_size=32,\n",
    "  train_size=0.7,\n",
    "  val_size=0.15,\n",
    "  test_size=0.15,\n",
    ")"
   ]
  },
  {
   "cell_type": "code",
   "execution_count": 22,
   "metadata": {},
   "outputs": [
    {
     "name": "stdout",
     "output_type": "stream",
     "text": [
      "<ShuffleDataset shapes: ((32, 80, 80, 3), (32,)), types: (tf.float32, tf.int64)>\n"
     ]
    }
   ],
   "source": [
    "print(train_it)\n",
    "for data in train_it:\n",
    "  image, label = data[0], data[1]\n",
    "  break"
   ]
  },
  {
   "cell_type": "code",
   "execution_count": 23,
   "metadata": {},
   "outputs": [
    {
     "name": "stderr",
     "output_type": "stream",
     "text": [
      "Clipping input data to the valid range for imshow with RGB data ([0..1] for floats or [0..255] for integers).\n",
      "Clipping input data to the valid range for imshow with RGB data ([0..1] for floats or [0..255] for integers).\n",
      "Clipping input data to the valid range for imshow with RGB data ([0..1] for floats or [0..255] for integers).\n",
      "Clipping input data to the valid range for imshow with RGB data ([0..1] for floats or [0..255] for integers).\n",
      "Clipping input data to the valid range for imshow with RGB data ([0..1] for floats or [0..255] for integers).\n",
      "Clipping input data to the valid range for imshow with RGB data ([0..1] for floats or [0..255] for integers).\n",
      "Clipping input data to the valid range for imshow with RGB data ([0..1] for floats or [0..255] for integers).\n",
      "Clipping input data to the valid range for imshow with RGB data ([0..1] for floats or [0..255] for integers).\n"
     ]
    },
    {
     "data": {
      "image/png": "[encoded data removed]",
      "text/plain": [
       "<Figure size 360x360 with 8 Axes>"
      ]
     },
     "metadata": {},
     "output_type": "display_data"
    }
   ],
   "source": [
    "from utils import visualization\n",
    "\n",
    "visualization.plot_image(2, 4, image)\n"
   ]
  },
  {
   "cell_type": "code",
   "execution_count": 15,
   "metadata": {},
   "outputs": [],
   "source": [
    "from models import capsule\n",
    "\n",
    "net = network.Network(\n",
    "    model=capsule.Extractor({\n",
    "        'fe_n_caps1': 21,\n",
    "        'fe_n_caps1_dim': 5,\n",
    "        'fe_n_caps2': 10,\n",
    "        'fe_n_caps2_dim': 16,\n",
    "        'fe_routing': 3}),\n",
    "    checkpoint_dir='capsnet\\\\checkpoints\\\\siamese_ssr\\\\celeb_a',\n",
    "    optimizer_type='adamax',\n",
    "    learning_rate=scheduler.lr_func)\n",
    "net.restore(epoch=50)\n"
   ]
  },
  {
   "cell_type": "code",
   "execution_count": 16,
   "metadata": {},
   "outputs": [],
   "source": [
    "feat_a, feat_b = net.model.predict((image_a, image_b))"
   ]
  },
  {
   "cell_type": "code",
   "execution_count": 18,
   "metadata": {},
   "outputs": [
    {
     "name": "stdout",
     "output_type": "stream",
     "text": [
      "tf.Tensor(\n",
      "[[[ 6.31391536e-03]\n",
      "  [-1.79327690e-04]\n",
      "  [ 1.43352663e-03]\n",
      "  [ 4.37526545e-03]\n",
      "  [-9.26377543e-05]\n",
      "  [ 1.03122067e+00]\n",
      "  [ 8.05805717e-03]\n",
      "  [ 2.74310317e-02]\n",
      "  [ 5.52882648e-06]\n",
      "  [ 1.47486932e-03]]\n",
      "\n",
      " [[-3.67608387e-04]\n",
      "  [-5.47094933e-05]\n",
      "  [-2.87110364e-04]\n",
      "  [-2.01144401e-04]\n",
      "  [-3.19319835e-04]\n",
      "  [-3.59013327e-04]\n",
      "  [ 5.35012659e-05]\n",
      "  [ 3.21442873e-04]\n",
      "  [-8.02257215e-04]\n",
      "  [-4.72057174e-04]]\n",
      "\n",
      " [[ 7.08909752e-03]\n",
      "  [ 2.70768913e-04]\n",
      "  [ 2.51117488e-03]\n",
      "  [ 4.53262078e-03]\n",
      "  [ 5.85907546e-04]\n",
      "  [ 1.04354000e+00]\n",
      "  [ 1.05708623e-02]\n",
      "  [ 2.73375642e-02]\n",
      "  [ 9.43159161e-04]\n",
      "  [ 1.53629412e-03]]\n",
      "\n",
      " [[-5.83081332e-04]\n",
      "  [ 1.98956786e-06]\n",
      "  [ 1.25815059e-04]\n",
      "  [ 3.99647281e-04]\n",
      "  [ 3.04851455e-05]\n",
      "  [-1.55862980e-02]\n",
      "  [-4.56505571e-04]\n",
      "  [-3.04118090e-04]\n",
      "  [-2.12838713e-04]\n",
      "  [ 9.76174197e-05]]\n",
      "\n",
      " [[ 3.35908239e-03]\n",
      "  [ 6.45019682e-05]\n",
      "  [ 9.09830630e-03]\n",
      "  [ 3.56977503e-03]\n",
      "  [ 7.14443624e-03]\n",
      "  [ 8.34101200e-01]\n",
      "  [ 4.91133484e-04]\n",
      "  [ 4.82816659e-02]\n",
      "  [ 3.22721968e-03]\n",
      "  [ 1.54300472e-02]]\n",
      "\n",
      " [[ 6.14641031e-05]\n",
      "  [-2.40506823e-04]\n",
      "  [-1.31873516e-02]\n",
      "  [-2.99263629e-03]\n",
      "  [-2.32683960e-03]\n",
      "  [-6.24419714e-04]\n",
      "  [-6.36189216e-05]\n",
      "  [ 2.12651701e-03]\n",
      "  [-3.50904255e-03]\n",
      "  [-6.30201772e-03]]\n",
      "\n",
      " [[ 1.80606730e-03]\n",
      "  [ 7.06376086e-05]\n",
      "  [ 4.84725554e-03]\n",
      "  [ 3.94384703e-03]\n",
      "  [ 3.59137938e-03]\n",
      "  [ 9.77738440e-01]\n",
      "  [ 9.88544663e-04]\n",
      "  [ 3.58260907e-02]\n",
      "  [ 1.86289253e-03]\n",
      "  [ 6.72286609e-03]]\n",
      "\n",
      " [[-1.56256297e-04]\n",
      "  [ 1.62683995e-04]\n",
      "  [ 1.46355333e-05]\n",
      "  [ 2.54383922e-04]\n",
      "  [ 2.95685400e-04]\n",
      "  [-5.60010271e-03]\n",
      "  [ 7.73857057e-04]\n",
      "  [ 1.08129745e-04]\n",
      "  [ 2.95413804e-04]\n",
      "  [ 4.22104436e-04]]\n",
      "\n",
      " [[ 1.73476164e-03]\n",
      "  [ 2.98594031e-03]\n",
      "  [ 4.79558855e-03]\n",
      "  [ 5.60117047e-03]\n",
      "  [ 3.13612539e-03]\n",
      "  [ 1.04920030e+00]\n",
      "  [ 2.62379041e-03]\n",
      "  [ 2.66824085e-02]\n",
      "  [ 2.20507779e-03]\n",
      "  [ 4.68409993e-03]]\n",
      "\n",
      " [[ 4.14035367e-06]\n",
      "  [ 9.48256093e-06]\n",
      "  [ 9.79626711e-05]\n",
      "  [-4.35641668e-05]\n",
      "  [ 4.17497999e-04]\n",
      "  [-7.04412069e-03]\n",
      "  [-8.78673309e-05]\n",
      "  [-2.72294477e-04]\n",
      "  [ 3.79690500e-05]\n",
      "  [ 2.24456424e-03]]\n",
      "\n",
      " [[ 5.94318239e-03]\n",
      "  [ 2.81647663e-04]\n",
      "  [ 2.77234794e-04]\n",
      "  [ 1.21492834e-03]\n",
      "  [ 2.77407962e-04]\n",
      "  [ 1.04977179e+00]\n",
      "  [ 1.14736017e-02]\n",
      "  [ 3.00187524e-02]\n",
      "  [ 5.84124005e-04]\n",
      "  [ 4.40086791e-04]]\n",
      "\n",
      " [[-1.34222835e-04]\n",
      "  [-6.38771453e-05]\n",
      "  [-1.99493184e-03]\n",
      "  [-1.09545747e-03]\n",
      "  [-5.58669271e-04]\n",
      "  [ 1.02100410e-02]\n",
      "  [ 6.37252000e-04]\n",
      "  [-2.64000060e-04]\n",
      "  [-3.74360097e-04]\n",
      "  [-6.86897489e-04]]\n",
      "\n",
      " [[ 6.95370953e-04]\n",
      "  [ 1.45776648e-04]\n",
      "  [-1.62946270e-03]\n",
      "  [-1.45590841e-03]\n",
      "  [-2.05650972e-03]\n",
      "  [ 1.03795540e+00]\n",
      "  [ 1.37953728e-03]\n",
      "  [ 2.41024550e-02]\n",
      "  [-1.58842059e-03]\n",
      "  [ 3.03406687e-03]]\n",
      "\n",
      " [[ 7.04419217e-04]\n",
      "  [-2.81975430e-04]\n",
      "  [ 6.63404004e-04]\n",
      "  [ 4.25858045e-04]\n",
      "  [-2.11277133e-04]\n",
      "  [-7.80796781e-02]\n",
      "  [ 2.81886384e-03]\n",
      "  [ 5.32745151e-04]\n",
      "  [ 7.20522832e-04]\n",
      "  [-9.09100752e-04]]\n",
      "\n",
      " [[ 4.66623297e-03]\n",
      "  [-2.75666498e-05]\n",
      "  [ 5.33088157e-03]\n",
      "  [ 1.58041052e-03]\n",
      "  [ 5.48215583e-03]\n",
      "  [ 1.03128219e+00]\n",
      "  [ 1.88037299e-03]\n",
      "  [ 7.71712065e-02]\n",
      "  [ 3.29241157e-03]\n",
      "  [ 1.56434830e-02]]\n",
      "\n",
      " [[ 4.83256939e-04]\n",
      "  [-4.28383719e-05]\n",
      "  [-6.12258154e-04]\n",
      "  [-7.05230399e-04]\n",
      "  [ 5.52336132e-06]\n",
      "  [-1.52981430e-02]\n",
      "  [ 1.19854565e-04]\n",
      "  [ 8.55571532e-04]\n",
      "  [ 2.31619779e-05]\n",
      "  [-2.67377472e-04]]\n",
      "\n",
      " [[ 3.94668337e-03]\n",
      "  [ 1.38512187e-04]\n",
      "  [ 2.36534630e-03]\n",
      "  [ 1.85073528e-03]\n",
      "  [ 1.91939168e-03]\n",
      "  [ 1.03951120e+00]\n",
      "  [ 4.02903277e-03]\n",
      "  [ 4.26038317e-02]\n",
      "  [ 1.28895976e-03]\n",
      "  [ 5.76793775e-03]]\n",
      "\n",
      " [[ 1.80915275e-04]\n",
      "  [-1.45810300e-05]\n",
      "  [-1.81526048e-04]\n",
      "  [-6.68815701e-05]\n",
      "  [-3.44836326e-06]\n",
      "  [-5.13399346e-03]\n",
      "  [ 2.46987358e-04]\n",
      "  [ 4.37778624e-04]\n",
      "  [-8.22447328e-06]\n",
      "  [-2.10336111e-05]]\n",
      "\n",
      " [[ 2.58412166e-03]\n",
      "  [ 1.30019384e-04]\n",
      "  [ 4.78572911e-03]\n",
      "  [ 2.14417954e-03]\n",
      "  [ 3.50223365e-03]\n",
      "  [ 9.87443089e-01]\n",
      "  [ 8.90235067e-04]\n",
      "  [ 3.87511440e-02]\n",
      "  [ 1.57580047e-03]\n",
      "  [ 8.83310474e-03]]\n",
      "\n",
      " [[ 3.85842839e-04]\n",
      "  [ 1.23407779e-04]\n",
      "  [-8.81275395e-04]\n",
      "  [-3.59901896e-04]\n",
      "  [ 1.05219532e-03]\n",
      "  [ 2.06809933e-03]\n",
      "  [ 5.22579694e-06]\n",
      "  [-1.23919162e-04]\n",
      "  [-1.05696497e-03]\n",
      "  [ 6.61651138e-04]]\n",
      "\n",
      " [[ 4.47072834e-03]\n",
      "  [ 3.39122198e-04]\n",
      "  [ 2.67583393e-02]\n",
      "  [ 1.04086874e-02]\n",
      "  [ 1.98964104e-02]\n",
      "  [ 1.03379500e+00]\n",
      "  [ 2.91281816e-04]\n",
      "  [ 1.07812524e-01]\n",
      "  [ 9.70133580e-03]\n",
      "  [ 4.24957536e-02]]\n",
      "\n",
      " [[ 6.34752272e-04]\n",
      "  [ 6.75069168e-05]\n",
      "  [-1.41993444e-03]\n",
      "  [-6.14567602e-04]\n",
      "  [-1.74771601e-04]\n",
      "  [-4.27064544e-04]\n",
      "  [ 4.73222317e-04]\n",
      "  [ 6.75827789e-04]\n",
      "  [ 2.20219095e-04]\n",
      "  [-1.84940908e-03]]\n",
      "\n",
      " [[ 1.78072439e-03]\n",
      "  [ 8.24702904e-04]\n",
      "  [ 1.63295004e-03]\n",
      "  [ 3.12107825e-03]\n",
      "  [ 5.21680282e-04]\n",
      "  [ 9.59145546e-01]\n",
      "  [ 2.53796368e-03]\n",
      "  [ 6.64117560e-03]\n",
      "  [ 2.18366877e-05]\n",
      "  [ 3.75812495e-04]]\n",
      "\n",
      " [[-4.35429509e-04]\n",
      "  [-1.80401417e-04]\n",
      "  [-2.42474023e-04]\n",
      "  [ 1.22917598e-04]\n",
      "  [ 2.58083572e-04]\n",
      "  [-3.45171131e-02]\n",
      "  [-2.79495522e-04]\n",
      "  [ 4.05118888e-04]\n",
      "  [ 7.57221860e-05]\n",
      "  [ 2.89149786e-04]]\n",
      "\n",
      " [[ 3.17200436e-03]\n",
      "  [ 5.03678166e-05]\n",
      "  [ 9.31118522e-03]\n",
      "  [ 3.40460124e-03]\n",
      "  [ 4.94728470e-03]\n",
      "  [ 9.43847775e-01]\n",
      "  [ 1.78281625e-03]\n",
      "  [ 5.78051880e-02]\n",
      "  [ 1.10095518e-03]\n",
      "  [ 1.14147719e-02]]\n",
      "\n",
      " [[-3.30153271e-04]\n",
      "  [ 3.44788168e-05]\n",
      "  [ 5.41662012e-05]\n",
      "  [ 3.43392836e-04]\n",
      "  [ 1.51818031e-05]\n",
      "  [-1.21808890e-03]\n",
      "  [-4.97795292e-04]\n",
      "  [ 5.02574148e-05]\n",
      "  [-4.54764086e-05]\n",
      "  [-1.41434966e-05]]\n",
      "\n",
      " [[ 2.38225702e-03]\n",
      "  [ 1.14527749e-04]\n",
      "  [ 2.07991339e-03]\n",
      "  [ 1.04147673e-03]\n",
      "  [ 1.83679967e-03]\n",
      "  [ 1.00633740e+00]\n",
      "  [ 2.06779526e-03]\n",
      "  [ 4.75214347e-02]\n",
      "  [-2.41268237e-04]\n",
      "  [ 5.72295906e-03]]\n",
      "\n",
      " [[ 1.54882277e-04]\n",
      "  [ 5.19615169e-05]\n",
      "  [-1.94650638e-04]\n",
      "  [ 1.17677504e-04]\n",
      "  [-5.96638074e-06]\n",
      "  [-2.32542050e-03]\n",
      "  [ 7.34542147e-04]\n",
      "  [ 7.02940451e-05]\n",
      "  [ 2.01423434e-04]\n",
      "  [-8.15154635e-05]]\n",
      "\n",
      " [[ 5.97654283e-03]\n",
      "  [ 6.59768120e-04]\n",
      "  [ 5.52389324e-02]\n",
      "  [ 2.21599750e-02]\n",
      "  [ 4.34776545e-02]\n",
      "  [ 8.39767873e-01]\n",
      "  [ 1.11636466e-04]\n",
      "  [ 1.26137033e-01]\n",
      "  [ 2.06317641e-02]\n",
      "  [ 8.91014859e-02]]\n",
      "\n",
      " [[ 5.82762237e-04]\n",
      "  [ 8.87922070e-05]\n",
      "  [-5.57254488e-03]\n",
      "  [-1.36099150e-03]\n",
      "  [-1.00337330e-03]\n",
      "  [-3.14549264e-03]\n",
      "  [ 1.86280740e-04]\n",
      "  [ 1.28003041e-04]\n",
      "  [-4.62098280e-04]\n",
      "  [-2.31627934e-03]]\n",
      "\n",
      " [[ 7.60848867e-03]\n",
      "  [ 1.34793139e-04]\n",
      "  [ 1.18687470e-03]\n",
      "  [ 4.57175216e-03]\n",
      "  [ 1.65879173e-04]\n",
      "  [ 1.03842711e+00]\n",
      "  [ 2.20166147e-02]\n",
      "  [ 2.77417209e-02]\n",
      "  [ 9.14760050e-04]\n",
      "  [-1.02637343e-04]]\n",
      "\n",
      " [[-2.38436085e-04]\n",
      "  [-1.83919765e-04]\n",
      "  [ 1.82885065e-04]\n",
      "  [ 7.40298536e-04]\n",
      "  [ 9.87238891e-05]\n",
      "  [-6.15438772e-03]\n",
      "  [ 7.56818859e-04]\n",
      "  [-3.46384099e-04]\n",
      "  [ 2.59182387e-04]\n",
      "  [ 7.45632497e-05]]], shape=(32, 10, 1), dtype=float32)\n",
      "[[0.00148505 0.00204836 0.0014326  0.00143085 0.0013506  0.0037769\n",
      "  0.00192465 0.00217238 0.00167418 0.00139449 0.0012621  0.00227517\n",
      "  0.00121173 0.00158544 0.00171541 0.00138007]\n",
      " [0.00093054 0.00086955 0.00095553 0.00089491 0.00076476 0.00092307\n",
      "  0.00101989 0.00080177 0.00085608 0.00083254 0.00089905 0.0008765\n",
      "  0.00096629 0.00080963 0.00074452 0.00088414]\n",
      " [0.00148751 0.00187839 0.00150105 0.00108685 0.00141841 0.00162577\n",
      "  0.00169968 0.0024384  0.00204038 0.00199528 0.00185827 0.00158985\n",
      "  0.00219486 0.00182779 0.00202885 0.00124824]\n",
      " [0.0015545  0.00136936 0.00191609 0.00121908 0.00247952 0.00177055\n",
      "  0.00155233 0.00217557 0.00213788 0.00129756 0.00155108 0.00169427\n",
      "  0.00151092 0.0023964  0.0015435  0.00236188]\n",
      " [0.00126861 0.00139923 0.00106864 0.00134061 0.001375   0.00095516\n",
      "  0.00093656 0.00148327 0.00113775 0.0011078  0.00156774 0.00138665\n",
      "  0.00153705 0.00110266 0.00159251 0.00100689]\n",
      " [0.00166451 0.00116012 0.00141823 0.00153033 0.00194311 0.00107143\n",
      "  0.00138438 0.00122446 0.00144291 0.00183608 0.04026704 0.00190678\n",
      "  0.0017663  0.00117811 0.00120918 0.00157736]\n",
      " [0.00353754 0.00105166 0.00119102 0.00102677 0.00083151 0.00243561\n",
      "  0.00097535 0.00098176 0.00182343 0.00099323 0.00146419 0.00114037\n",
      "  0.00082945 0.00076217 0.00089877 0.00183953]\n",
      " [0.00078064 0.00111566 0.00086765 0.00075087 0.00365273 0.00063028\n",
      "  0.00090593 0.0011366  0.00102674 0.00069432 0.00372477 0.0007677\n",
      "  0.00073784 0.00079856 0.00119549 0.00069464]\n",
      " [0.00124473 0.00180382 0.00161022 0.00145205 0.00205016 0.00132089\n",
      "  0.00164159 0.0015177  0.00187289 0.00190859 0.00122203 0.001298\n",
      "  0.0013475  0.00149113 0.00128792 0.00091648]\n",
      " [0.00166426 0.00254093 0.00217819 0.00184258 0.00160237 0.00162274\n",
      "  0.00143063 0.00206059 0.001805   0.00167157 0.00153773 0.0017698\n",
      "  0.00211237 0.00173348 0.00228846 0.0018535 ]]\n",
      "[[0.00103813 0.0007372  0.0007222  0.00092169 0.00067367 0.0016151\n",
      "  0.00091972 0.0011763  0.00105222 0.00064555 0.00066629 0.00104731\n",
      "  0.00060674 0.00077613 0.00087382 0.00110487]\n",
      " [0.00053631 0.0005284  0.00034549 0.00040423 0.00053703 0.00028426\n",
      "  0.00038016 0.00069574 0.00056502 0.00081316 0.00027276 0.00050833\n",
      "  0.00046213 0.0005521  0.00027646 0.00036304]\n",
      " [0.00106811 0.00082595 0.00081627 0.00097045 0.00106013 0.00134628\n",
      "  0.00086702 0.0013353  0.00094404 0.00123031 0.00109981 0.00096712\n",
      "  0.0011532  0.00076763 0.00134448 0.00090497]\n",
      " [0.00123856 0.00112276 0.00133933 0.0009774  0.00146138 0.00121681\n",
      "  0.00132853 0.00164779 0.00141343 0.00092932 0.00113637 0.00137584\n",
      "  0.00092536 0.00171208 0.0011134  0.00167113]\n",
      " [0.00118186 0.00094204 0.0009211  0.00095621 0.00074946 0.00110952\n",
      "  0.00083359 0.00107645 0.00103912 0.00113299 0.00094422 0.00120999\n",
      "  0.00095564 0.00106917 0.0009922  0.00100363]\n",
      " [0.00086266 0.00108607 0.00099906 0.0009773  0.00118519 0.00108683\n",
      "  0.00100236 0.00092327 0.00101308 0.00115262 0.03614351 0.0010164\n",
      "  0.00106153 0.00101364 0.00095429 0.0010569 ]\n",
      " [0.00157639 0.00069849 0.00068597 0.00084259 0.00082454 0.00113936\n",
      "  0.00069691 0.00065926 0.00083338 0.000582   0.00073473 0.00056464\n",
      "  0.00067988 0.00074602 0.00065028 0.00094807]\n",
      " [0.00061879 0.00069222 0.00043186 0.00054102 0.00229322 0.00053996\n",
      "  0.00048005 0.00073294 0.00066175 0.00045525 0.00224206 0.00047029\n",
      "  0.00060344 0.0004744  0.00060557 0.00034849]\n",
      " [0.00109641 0.00087001 0.0008397  0.00103778 0.00111635 0.00108995\n",
      "  0.00116774 0.00104676 0.00109717 0.00122189 0.00104589 0.00110015\n",
      "  0.00124223 0.00087499 0.00104825 0.00106143]\n",
      " [0.00059646 0.00082484 0.00075662 0.00081033 0.00077972 0.0007691\n",
      "  0.0006114  0.00091509 0.00069541 0.00069619 0.0005065  0.00081255\n",
      "  0.00110247 0.00103281 0.0011275  0.00054527]]\n"
     ]
    }
   ],
   "source": [
    "from utils import loss\n",
    "\n",
    "print(loss.cor_feat(feat_a, feat_b))\n",
    "print(feat_a[0])\n",
    "print(feat_b[0])"
   ]
  },
  {
   "cell_type": "code",
   "execution_count": null,
   "metadata": {},
   "outputs": [],
   "source": [
    "net = network.Network(\n",
    "    model=pose.PoseEstimator({\n",
    "        'data_dim': 64,\n",
    "        'pose_lambda_d': 1.0,\n",
    "        'pose_stage_base': [3, 3, 3],\n",
    "        'pose_n_caps1': 21,\n",
    "        'pose_n_caps1_dim': 5,\n",
    "        'pose_n_caps2': 3,\n",
    "        'pose_n_caps2_dim': 16,\n",
    "        'pose_routing': 2,\n",
    "    }),\n",
    "    checkpoint_dir='capsnet\\\\checkpoints\\\\300w_lp',\n",
    "    optimizer_type='adam',\n",
    "    learning_rate=scheduler.lr_func)\n",
    "\n",
    "net.restore(epoch=40)\n"
   ]
  },
  {
   "cell_type": "code",
   "execution_count": null,
   "metadata": {},
   "outputs": [],
   "source": [
    "for i in range(1):\n",
    "  data = test_it.get_next()\n",
    "x, y = data[0], data[1]"
   ]
  },
  {
   "cell_type": "code",
   "execution_count": null,
   "metadata": {},
   "outputs": [],
   "source": [
    "y_pred = net.model.predict(x)"
   ]
  },
  {
   "cell_type": "code",
   "execution_count": null,
   "metadata": {},
   "outputs": [],
   "source": [
    "l0_pred = y_pred[2][0] * 20\n",
    "l1_pred = y_pred[2][1] * 20\n",
    "l2_pred = y_pred[2][2] * 20\n",
    "b0_pred = y_pred[2][3] * 20\n",
    "b1_pred = y_pred[2][4] * 20\n",
    "b2_pred = y_pred[2][5] * 20\n",
    "f0_pred = y_pred[2][6] * 20\n",
    "f1_pred = y_pred[2][7] * 20\n",
    "f2_pred = y_pred[2][8] * 20"
   ]
  },
  {
   "cell_type": "code",
   "execution_count": null,
   "metadata": {},
   "outputs": [],
   "source": [
    "import matplotlib.pyplot as plt\n",
    "\n",
    "# Creating plot\n",
    "fig, ax = plt.subplots(figsize = (10, 10))\n",
    "ax.imshow(x[2], cmap='gray', norm=None, vmin=0, vmax=1, origin='lower')\n",
    "ax.arrow(0, 0, l0_pred, l1_pred, color='red')\n",
    "ax.arrow(0, 0, b0_pred, b1_pred, color='green')\n",
    "ax.arrow(0, 0, f0_pred, f1_pred, color='blue')\n",
    "ax.axis([-10, 64, 64, -10])\n",
    "\n",
    "plt.show()"
   ]
  },
  {
   "cell_type": "code",
   "execution_count": null,
   "metadata": {},
   "outputs": [],
   "source": [
    "# tmp = {}\n",
    "# count = 0\n",
    "# for batch in test_it:\n",
    "#   images, ids = batch[0], batch[1]\n",
    "#   for image, id in zip(images, ids):\n",
    "#     id = int(id)\n",
    "#     if id not in tmp:\n",
    "#       tmp[id] = [image]\n",
    "#     else:\n",
    "#       tmp[id].append(image)\n",
    "  \n",
    "#   count += 1\n",
    "#   if count > 10:\n",
    "#     break"
   ]
  },
  {
   "cell_type": "code",
   "execution_count": null,
   "metadata": {},
   "outputs": [],
   "source": [
    "# from utils import visualization\n",
    "\n",
    "# count = 0\n",
    "# for id, images in tmp.items():\n",
    "#   print(id)\n",
    "#   visualization.plot_image(2, 2, images)\n",
    "#   count += 1\n",
    "#   if count > 5:\n",
    "#     break\n"
   ]
  },
  {
   "cell_type": "markdown",
   "metadata": {},
   "source": [
    "# VGG Face "
   ]
  },
  {
   "cell_type": "code",
   "execution_count": null,
   "metadata": {},
   "outputs": [],
   "source": [
    "from models import vggface\n",
    "net_fe = vggface.Extractor({\n",
    "            'n_class': 10177,\n",
    "            'type': 'end2end'\n",
    "        })"
   ]
  },
  {
   "cell_type": "code",
   "execution_count": null,
   "metadata": {},
   "outputs": [],
   "source": [
    "train_it, val_it = dataset.make_dataset_iterator(\n",
    "  data_name='celeb_a',\n",
    "  mode='train',\n",
    "  data_dir='data\\\\celeb_a',\n",
    "  data_dim=224,\n",
    "  batch_size=16,\n",
    "  train_size=0.7,\n",
    "  val_size=0.15,\n",
    "  test_size=0.15,\n",
    ")\n"
   ]
  },
  {
   "cell_type": "code",
   "execution_count": null,
   "metadata": {},
   "outputs": [],
   "source": [
    "from utils.loss import cross_entropy\n",
    "\n",
    "net_fe.compile(\n",
    "    optimizer='adam',\n",
    "    loss=cross_entropy,\n",
    "    metrics=[tf.keras.metrics.SparseTopKCategoricalAccuracy(k=5)]\n",
    ")"
   ]
  },
  {
   "cell_type": "code",
   "execution_count": null,
   "metadata": {},
   "outputs": [],
   "source": [
    "net_fe.fit(x=train_it, epochs=100, validation_data = val_it)"
   ]
  },
  {
   "cell_type": "markdown",
   "metadata": {},
   "source": [
    "# VGG Face 2"
   ]
  },
  {
   "cell_type": "code",
   "execution_count": 12,
   "metadata": {},
   "outputs": [],
   "source": [
    "import tarfile\n",
    "\n",
    "def untar(data_name, data_path, extract_path):\n",
    "  print(f'Extracting {data_name} ...')\n",
    "  tarobj = tarfile.open(data_path, 'r:gz', encoding='utf-8')\n",
    "  tarobj.extractall(extract_path)"
   ]
  },
  {
   "cell_type": "code",
   "execution_count": 13,
   "metadata": {},
   "outputs": [],
   "source": [
    "main_path = './data/vggface2'\n",
    "data_path = os.path.join(main_path, 'data')\n",
    "meta_path = os.path.join(main_path, 'meta')\n",
    "\n",
    "train_tar = os.path.join(data_path, 'vggface2_train.tar.gz')\n",
    "test_tar = os.path.join(data_path, 'vggface2_test.tar.gz')\n",
    "\n",
    "extract_func = untar"
   ]
  },
  {
   "cell_type": "code",
   "execution_count": 14,
   "metadata": {},
   "outputs": [
    {
     "name": "stdout",
     "output_type": "stream",
     "text": [
      "Extracting vggface2_train ...\n"
     ]
    }
   ],
   "source": [
    "extract_func('vggface2_train', train_tar, data_path)\n"
   ]
  },
  {
   "cell_type": "code",
   "execution_count": 22,
   "metadata": {},
   "outputs": [
    {
     "name": "stdout",
     "output_type": "stream",
     "text": [
      "./data/vggface2\\data\\vggface2_test.tar.gz\n",
      "./data/vggface2\\data\\vggface2_train.tar.gz\n"
     ]
    }
   ],
   "source": [
    "for filename in os.listdir(data_path):\n",
    "  f = os.path.join(data_path, filename)\n",
    "  # checking if it is a file\n",
    "  if os.path.isfile(f) and f.endswith('.tar.gz'):\n",
    "      print(f)"
   ]
  },
  {
   "cell_type": "markdown",
   "metadata": {},
   "source": [
    "# MNIST"
   ]
  },
  {
   "cell_type": "code",
   "execution_count": 4,
   "metadata": {},
   "outputs": [],
   "source": [
    "from models import capsule\n",
    "\n",
    "net = network.Network(\n",
    "    model=capsule.Extractor({\n",
    "        'fe_n_caps1': 21,\n",
    "        'fe_n_caps1_dim': 5,\n",
    "        'fe_n_caps2': 10,\n",
    "        'fe_n_caps2_dim': 16,\n",
    "        'fe_routing': 3,\n",
    "    }),\n",
    "    checkpoint_dir='capsnet\\\\checkpoints\\\\mnist',\n",
    "    optimizer_type='adamax',\n",
    "    learning_rate=scheduler.lr_func)\n",
    "\n",
    "net.restore(epoch=9)"
   ]
  },
  {
   "cell_type": "code",
   "execution_count": 3,
   "metadata": {},
   "outputs": [
    {
     "data": {
      "text/plain": [
       "<tf.Tensor 'conv5_block3_out/Relu_1:0' shape=(None, 3, 3, 2048) dtype=float32>"
      ]
     },
     "execution_count": 3,
     "metadata": {},
     "output_type": "execute_result"
    }
   ],
   "source": [
    "import tensorflow as tf\n",
    "\n",
    "\n",
    "resnet = tf.keras.applications.resnet50.ResNet50(\n",
    "    include_top=False,\n",
    "    weights=None,\n",
    "    input_tensor=None,\n",
    "    input_shape=(80, 80, 3),\n",
    "    pooling=None,\n",
    ")\n",
    "\n",
    "resnet.output\n"
   ]
  },
  {
   "cell_type": "code",
   "execution_count": 19,
   "metadata": {},
   "outputs": [
    {
     "name": "stdout",
     "output_type": "stream",
     "text": [
      "(2, 1)\n"
     ]
    },
    {
     "name": "stderr",
     "output_type": "stream",
     "text": [
      "[autoreload of capsnet.flag failed: Traceback (most recent call last):\n",
      "  File \"d:\\Softwares\\miniconda3\\envs\\py38_tf23\\lib\\site-packages\\IPython\\extensions\\autoreload.py\", line 257, in check\n",
      "    superreload(m, reload, self.old_objects)\n",
      "  File \"d:\\Softwares\\miniconda3\\envs\\py38_tf23\\lib\\site-packages\\IPython\\extensions\\autoreload.py\", line 455, in superreload\n",
      "    module = reload(module)\n",
      "  File \"d:\\Softwares\\miniconda3\\envs\\py38_tf23\\lib\\importlib\\__init__.py\", line 169, in reload\n",
      "    _bootstrap._exec(spec, module)\n",
      "  File \"<frozen importlib._bootstrap>\", line 604, in _exec\n",
      "  File \"<frozen importlib._bootstrap_external>\", line 843, in exec_module\n",
      "  File \"<frozen importlib._bootstrap>\", line 219, in _call_with_frames_removed\n",
      "  File \"D:\\Education\\BMSTU\\Diploma_Master\\_my_work\\capsnet\\flag.py\", line 6, in <module>\n",
      "    flags.DEFINE_string('type', 'siamese_ssr', 'Choose from : {end2end, pose_only, siamese_ssr, siamese_ori}')\n",
      "  File \"d:\\Softwares\\miniconda3\\envs\\py38_tf23\\lib\\site-packages\\absl\\flags\\_defines.py\", line 286, in DEFINE_string\n",
      "    return DEFINE(\n",
      "  File \"d:\\Softwares\\miniconda3\\envs\\py38_tf23\\lib\\site-packages\\absl\\flags\\_defines.py\", line 104, in DEFINE\n",
      "    return DEFINE_flag(\n",
      "  File \"d:\\Softwares\\miniconda3\\envs\\py38_tf23\\lib\\site-packages\\absl\\flags\\_defines.py\", line 140, in DEFINE_flag\n",
      "    fv[flag.name] = flag\n",
      "absl.flags._exceptions.DuplicateFlagError: The flag 'type' is defined twice. First from capsnet.flag, Second from capsnet.flag.  Description from first occurrence: Choose from : {end2end, pose_only, siamese_ssr, siamese_ori}\n",
      "]\n"
     ]
    }
   ],
   "source": [
    "import tensorflow as tf\n",
    "\n",
    "pair_y = tf.constant([[1], [0]], dtype=tf.float32)\n",
    "print(pair_y.shape)\n"
   ]
  }
 ],
 "metadata": {
  "kernelspec": {
   "display_name": "Python 3.8.12 ('py38_tf23')",
   "language": "python",
   "name": "python3"
  },
  "language_info": {
   "codemirror_mode": {
    "name": "ipython",
    "version": 3
   },
   "file_extension": ".py",
   "mimetype": "text/x-python",
   "name": "python",
   "nbconvert_exporter": "python",
   "pygments_lexer": "ipython3",
   "version": "3.8.12"
  },
  "orig_nbformat": 4,
  "vscode": {
   "interpreter": {
    "hash": "0661183a20470cb08ff1fed7115582c4863ff6de885282dece017bb0eaf22cf3"
   }
  }
 },
 "nbformat": 4,
 "nbformat_minor": 2
}
